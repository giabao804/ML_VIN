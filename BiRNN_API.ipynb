{
  "nbformat": 4,
  "nbformat_minor": 0,
  "metadata": {
    "kernelspec": {
      "display_name": "Python 3",
      "name": "python3"
    },
    "language_info": {
      "name": "python"
    },
    "colab": {
      "provenance": [],
      "include_colab_link": true
    },
    "accelerator": "GPU",
    "gpuClass": "standard"
  },
  "cells": [
    {
      "cell_type": "markdown",
      "metadata": {
        "id": "view-in-github",
        "colab_type": "text"
      },
      "source": [
        "<a href=\"https://colab.research.google.com/github/giabao804/ML_VIN/blob/main/BiRNN_API.ipynb\" target=\"_parent\"><img src=\"https://colab.research.google.com/assets/colab-badge.svg\" alt=\"Open In Colab\"/></a>"
      ]
    },
    {
      "cell_type": "markdown",
      "metadata": {
        "id": "pVkQHipC35QJ"
      },
      "source": [
        "## **Giới thiệu**\n",
        "### Bi-directional Recurrent Neural Network\n",
        "Trong bài tập về nhà lần này, chúng ta sẽ xây dựng mạng RNN hai chiều với PyTorch"
      ]
    },
    {
      "cell_type": "markdown",
      "source": [
        "## **Tổng quan về BiRNN**\n",
        "\n",
        "<img src=\"https://www.easy-tensorflow.com/images/NN/03.png\" alt=\"nn\" style=\"width: 600px;\"/>\n",
        "\n",
        "Như các bạn đã biết, mạng RNN gặp trở ngại lớn về việc short-term memory do vấn đề gradient vashing trong quá trình huấn luyện. Vậy nên, mạng Bidirectional RNNs đã được giới thiệu bởi [Schuster and Paliwal, 1997](https://d2l.ai/chapter_references/zreferences.html#id247). Bây giờ chúng ta sẽ xem xét chi tiết mạng này:\n",
        "\n",
        "Tại timestep t, cho minibatch input $X_t∈R^{n*d}$ (số examples: n, và số input trong mỗi example: d) và cho hàm kích hoạt của lớp ẩn là Φ. Trong kiến trúc hai chiều, giả sử trạng thái ẩn của `forward` và `backward` lần lượt cho timestep này là $\\stackrel{→}{H_t} \\in R^{n*h}$ và $\\stackrel{←}{H_t} \\in R^{n*h}$, trong đó *h* là số chiều của lớp ẩn. Trạng thái ẩn của `forward` và `backward` được cập nhật như sau:\n",
        "$$\\stackrel{→}{H_t} = Φ(X_tW_{xh}^{(f)}+\\stackrel{→}{H_{t-1}}W_{hh}^{(f)} + b_h^{(f)})$$\n",
        "$$\\stackrel{←}{H_t} = Φ(X_tW_{xh}^{(b)}+\\stackrel{←}{H_{t+1}}W_{hh}^{(b)} + b_h^{(b)})$$\n",
        "\n",
        "trong đó, weights là $W^{(f)}_{xh} \\in R^{d*h}, W^{(f)}_{hh} \\in R^{h*h}, W^{(b)}_{xh} \\in R^{d*h}, W^{(b)}_{hh} \\in R^{h*h}$ và biases là $b^{(f)}_h \\in R^{1*h}, b^{(b)}_h \\in R^{1*h}$ đều là các tham số của model.\n",
        "\n",
        "Sau đó, chúng ta concatenate trạng thái ẩn của `forward` và `backward` $\\stackrel{→}{H_t},\\stackrel{\\leftarrow}{H_t}$ được $H_t \\in R_{n*2h}$ để đưa vào layer cuối. Cuối cùng, layer cuối cùng tính toán output $O_t \\in R^{n*q}$ (number of classes: q):\n",
        "$$O_t = H_tW_{hq} + {b}_q$$\n",
        "\n",
        "Ở đây, trọng số $W_{hq}∈R^{2h*q}$ và bias $b_q∈R^{1*q}$.\n",
        "\n",
        "\n",
        "**Các bạn hãy chú ý kích thước của trọng số để điền đúng vào các thông số của mô hình.**\n",
        "\n"
      ],
      "metadata": {
        "id": "L1xCHLCcb3zj"
      }
    },
    {
      "cell_type": "markdown",
      "metadata": {
        "id": "3ohdKVqt35QL"
      },
      "source": [
        "\n",
        "\n",
        "## **Setup**\n"
      ]
    },
    {
      "cell_type": "markdown",
      "source": [
        "### Cài đặt bộ dữ liệu MNIST\n",
        "\n",
        "Ví dụ này sử dụng bộ dữ liệu về chữ số viết tay MNIST. Bộ dữ liệu chữa 60k mẫu cho huấn luyện và 10k mẫu cho kiểm thử.\n",
        "\n",
        "![MNIST Dataset](https://i1.wp.com/varianceexplained.org/images/mnist.png?w=456)\n",
        "\n",
        "Để phân loại hình ảnh sử dụng RNN, chúng ta sẽ coi mỗi hàng là một chuỗi các pixels. Bởi vì kích thước ảnh là $1*28*28$ pixels, ta sẽ sử lý 28 chuỗi của 28 timesteps cho tất cả các samples."
      ],
      "metadata": {
        "id": "LRiyNRZhE90q"
      }
    },
    {
      "cell_type": "code",
      "metadata": {
        "id": "8t6UCwCB35QN"
      },
      "source": [
        "# Import một số thư viện cần thiết\n",
        "import torch\n",
        "import torch.nn as nn\n",
        "import torch.nn.functional as F\n",
        "import torch.optim as optim\n",
        "import torchvision\n",
        "import torchvision.transforms as transforms\n",
        "from torch.autograd import Variable\n",
        "import numpy as np\n",
        "import matplotlib.pyplot as plt"
      ],
      "execution_count": 1,
      "outputs": []
    },
    {
      "cell_type": "code",
      "source": [
        "# Device configuration\n",
        "device = torch.device('cuda' if torch.cuda.is_available() else 'cpu')\n",
        "assert device.type=='cuda'"
      ],
      "metadata": {
        "id": "uMbNaP2_xXhT"
      },
      "execution_count": 2,
      "outputs": []
    },
    {
      "cell_type": "code",
      "metadata": {
        "id": "2bVsHfAT35QO",
        "colab": {
          "base_uri": "https://localhost:8080/"
        },
        "outputId": "a967111c-855e-4d14-e008-491d06fdce32"
      },
      "source": [
        "# Chuẩn bị dữ liệu\n",
        "train_data = torchvision.datasets.MNIST(\n",
        "    root='data',\n",
        "    train=True,\n",
        "    transform=transforms.Compose([\n",
        "    transforms.ToTensor(), # Chuyển ảnh sang dạng Tensor\n",
        "    transforms.Normalize((0.5,), (0.5,)) # Normalize ảnh với mean và standard deviation là 0.5\n",
        "    ]),\n",
        "    download=True\n",
        ")\n",
        "\n",
        "test_data = torchvision.datasets.MNIST(\n",
        "    root='data',\n",
        "    train=False,\n",
        "    transform=transforms.Compose([\n",
        "    transforms.ToTensor(), # Chuyển ảnh sang dạng Tensor\n",
        "    transforms.Normalize((0.5,), (0.5,)) # Normalize ảnh với mean và standard deviation là 0.5\n",
        "    ])\n",
        ")"
      ],
      "execution_count": 3,
      "outputs": [
        {
          "output_type": "stream",
          "name": "stdout",
          "text": [
            "Downloading http://yann.lecun.com/exdb/mnist/train-images-idx3-ubyte.gz\n",
            "Failed to download (trying next):\n",
            "HTTP Error 403: Forbidden\n",
            "\n",
            "Downloading https://ossci-datasets.s3.amazonaws.com/mnist/train-images-idx3-ubyte.gz\n",
            "Downloading https://ossci-datasets.s3.amazonaws.com/mnist/train-images-idx3-ubyte.gz to data/MNIST/raw/train-images-idx3-ubyte.gz\n"
          ]
        },
        {
          "output_type": "stream",
          "name": "stderr",
          "text": [
            "100%|██████████| 9912422/9912422 [00:02<00:00, 4513374.91it/s]\n"
          ]
        },
        {
          "output_type": "stream",
          "name": "stdout",
          "text": [
            "Extracting data/MNIST/raw/train-images-idx3-ubyte.gz to data/MNIST/raw\n",
            "\n",
            "Downloading http://yann.lecun.com/exdb/mnist/train-labels-idx1-ubyte.gz\n",
            "Failed to download (trying next):\n",
            "HTTP Error 403: Forbidden\n",
            "\n",
            "Downloading https://ossci-datasets.s3.amazonaws.com/mnist/train-labels-idx1-ubyte.gz\n",
            "Downloading https://ossci-datasets.s3.amazonaws.com/mnist/train-labels-idx1-ubyte.gz to data/MNIST/raw/train-labels-idx1-ubyte.gz\n"
          ]
        },
        {
          "output_type": "stream",
          "name": "stderr",
          "text": [
            "100%|██████████| 28881/28881 [00:00<00:00, 132150.43it/s]\n"
          ]
        },
        {
          "output_type": "stream",
          "name": "stdout",
          "text": [
            "Extracting data/MNIST/raw/train-labels-idx1-ubyte.gz to data/MNIST/raw\n",
            "\n",
            "Downloading http://yann.lecun.com/exdb/mnist/t10k-images-idx3-ubyte.gz\n",
            "Failed to download (trying next):\n",
            "HTTP Error 403: Forbidden\n",
            "\n",
            "Downloading https://ossci-datasets.s3.amazonaws.com/mnist/t10k-images-idx3-ubyte.gz\n",
            "Downloading https://ossci-datasets.s3.amazonaws.com/mnist/t10k-images-idx3-ubyte.gz to data/MNIST/raw/t10k-images-idx3-ubyte.gz\n"
          ]
        },
        {
          "output_type": "stream",
          "name": "stderr",
          "text": [
            "100%|██████████| 1648877/1648877 [00:01<00:00, 1272512.45it/s]\n"
          ]
        },
        {
          "output_type": "stream",
          "name": "stdout",
          "text": [
            "Extracting data/MNIST/raw/t10k-images-idx3-ubyte.gz to data/MNIST/raw\n",
            "\n",
            "Downloading http://yann.lecun.com/exdb/mnist/t10k-labels-idx1-ubyte.gz\n",
            "Failed to download (trying next):\n",
            "HTTP Error 403: Forbidden\n",
            "\n",
            "Downloading https://ossci-datasets.s3.amazonaws.com/mnist/t10k-labels-idx1-ubyte.gz\n",
            "Downloading https://ossci-datasets.s3.amazonaws.com/mnist/t10k-labels-idx1-ubyte.gz to data/MNIST/raw/t10k-labels-idx1-ubyte.gz\n"
          ]
        },
        {
          "output_type": "stream",
          "name": "stderr",
          "text": [
            "100%|██████████| 4542/4542 [00:00<00:00, 1620769.85it/s]"
          ]
        },
        {
          "output_type": "stream",
          "name": "stdout",
          "text": [
            "Extracting data/MNIST/raw/t10k-labels-idx1-ubyte.gz to data/MNIST/raw\n",
            "\n"
          ]
        },
        {
          "output_type": "stream",
          "name": "stderr",
          "text": [
            "\n"
          ]
        }
      ]
    },
    {
      "cell_type": "code",
      "source": [
        "print(train_data)\n",
        "print(test_data)"
      ],
      "metadata": {
        "id": "lewOXvnNzSyE",
        "colab": {
          "base_uri": "https://localhost:8080/"
        },
        "outputId": "8999a8c3-b8d9-4197-f25a-ac3cca0819b4"
      },
      "execution_count": 4,
      "outputs": [
        {
          "output_type": "stream",
          "name": "stdout",
          "text": [
            "Dataset MNIST\n",
            "    Number of datapoints: 60000\n",
            "    Root location: data\n",
            "    Split: Train\n",
            "    StandardTransform\n",
            "Transform: Compose(\n",
            "               ToTensor()\n",
            "               Normalize(mean=(0.5,), std=(0.5,))\n",
            "           )\n",
            "Dataset MNIST\n",
            "    Number of datapoints: 10000\n",
            "    Root location: data\n",
            "    Split: Test\n",
            "    StandardTransform\n",
            "Transform: Compose(\n",
            "               ToTensor()\n",
            "               Normalize(mean=(0.5,), std=(0.5,))\n",
            "           )\n"
          ]
        }
      ]
    },
    {
      "cell_type": "code",
      "source": [
        "# Visualize một số sample\n",
        "figure = plt.figure(figsize=(10, 8))\n",
        "cols, rows = 5, 5\n",
        "for i in range(1, cols * rows + 1):\n",
        "    sample_idx = torch.randint(len(train_data), size=(1,)).item()\n",
        "    img, label = train_data[sample_idx]\n",
        "    figure.add_subplot(rows, cols, i)\n",
        "    plt.title(label)\n",
        "    plt.axis(\"off\")\n",
        "    plt.imshow(img.squeeze(), cmap=\"gray\")\n",
        "plt.show()"
      ],
      "metadata": {
        "id": "xccOrgiNzWWw",
        "colab": {
          "base_uri": "https://localhost:8080/",
          "height": 675
        },
        "outputId": "897bddce-519b-4aeb-c480-d14767b18a1e"
      },
      "execution_count": 5,
      "outputs": [
        {
          "output_type": "display_data",
          "data": {
            "text/plain": [
              "<Figure size 1000x800 with 25 Axes>"
            ],
            "image/png": "[encoded data removed]"
          },
          "metadata": {}
        }
      ]
    },
    {
      "cell_type": "markdown",
      "source": [
        "### Khởi tạo hyperparameters và dataloader"
      ],
      "metadata": {
        "id": "zaucR0IpFHpU"
      }
    },
    {
      "cell_type": "code",
      "source": [
        "# Hyperparameters\n",
        "# Hyperparameters\n",
        "input_dim = 28  # Example: number of features per timestep\n",
        "seq_length = 100  # Example: number of timesteps in each sequence\n",
        "layer_dim = 1  # Number of hidden layers\n",
        "hidden_dim = 256  # Number of hidden units\n",
        "output_dim = 10  # Example: number of output classes\n",
        "batch_size = 128\n",
        "num_epochs = 1  # Optional: number of epochs\n",
        "checkpoint = 'model.pth'  # Path to save the model checkpoint\n"
      ],
      "metadata": {
        "id": "P7l27uWStQAv"
      },
      "execution_count": 21,
      "outputs": []
    },
    {
      "cell_type": "code",
      "source": [
        "# Load dữ liệu vào batch\n",
        "train_loader = torch.utils.data.DataLoader(dataset=train_data,\n",
        "                                           batch_size=batch_size,\n",
        "                                           shuffle=False)\n",
        "\n",
        "test_loader = torch.utils.data.DataLoader(dataset=test_data,\n",
        "                                          batch_size=batch_size,\n",
        "                                          shuffle=False)"
      ],
      "metadata": {
        "id": "jFdHDIpJz89G"
      },
      "execution_count": 22,
      "outputs": []
    },
    {
      "cell_type": "markdown",
      "source": [
        "### BiRNN Model\n"
      ],
      "metadata": {
        "id": "wXnb_DSeFR7-"
      }
    },
    {
      "cell_type": "code",
      "metadata": {
        "id": "xzcLVHaz35QP"
      },
      "source": [
        "class BiRNNModel(nn.Module):\n",
        "    def __init__(self, input_dim, hidden_dim, layer_dim, output_dim):\n",
        "        super(BiRNNModel, self).__init__()\n",
        "\n",
        "        # Thiết lập số chiều của tầng ẩn\n",
        "        self.hidden_dim = hidden_dim\n",
        "\n",
        "        # Thiết lập số layers\n",
        "        self.layer_dim = layer_dim\n",
        "\n",
        "        # RNN layer (set bidirectional=True and batch_first=True)\n",
        "        self.rnn = nn.RNN(input_dim, hidden_dim, layer_dim, batch_first=True, bidirectional=True)\n",
        "\n",
        "        # Readout layer (since BiRNN is bidirectional, hidden_dim*2 is used)\n",
        "        self.fc = nn.Linear(hidden_dim * 2, output_dim)\n",
        "\n",
        "    def forward(self, x):\n",
        "\n",
        "        # Khởi tạo hidden state\n",
        "        h0 = Variable(torch.zeros(2 * self.layer_dim, x.size(0), self.hidden_dim)).to(device)\n",
        "\n",
        "        # Forward propagate RNN\n",
        "        out, _ = self.rnn(x, h0)  # out: tensor of shape (batch_size, seq_length, hidden_dim*2)\n",
        "\n",
        "        # Decode trạng thái ẩn của timestep cuối cùng\n",
        "        out = self.fc(out[:, -1, :])\n",
        "        return out\n"
      ],
      "execution_count": 23,
      "outputs": []
    },
    {
      "cell_type": "code",
      "metadata": {
        "id": "4sTvxZ7H35QP",
        "colab": {
          "base_uri": "https://localhost:8080/"
        },
        "outputId": "3d085d85-1173-47bd-95f4-cce9a159903a"
      },
      "source": [
        "# Tạo một instance lớp BiRNNModel và load vào GPU\n",
        "device = torch.device(\"cuda\" if torch.cuda.is_available() else \"cpu\")\n",
        "# Initialize model and move to GPU\n",
        "model = BiRNNModel(input_dim, hidden_dim, layer_dim, output_dim).to(device)\n",
        "\n",
        "# Set the model to evaluation mode\n",
        "model.eval()\n"
      ],
      "execution_count": 27,
      "outputs": [
        {
          "output_type": "execute_result",
          "data": {
            "text/plain": [
              "BiRNNModel(\n",
              "  (rnn): RNN(28, 256, batch_first=True, bidirectional=True)\n",
              "  (fc): Linear(in_features=512, out_features=10, bias=True)\n",
              ")"
            ]
          },
          "metadata": {},
          "execution_count": 27
        }
      ]
    },
    {
      "cell_type": "markdown",
      "source": [
        "## **Training phase**"
      ],
      "metadata": {
        "id": "OFyTfyHaFXsF"
      }
    },
    {
      "cell_type": "code",
      "source": [
        "# Loss và optimizer\n",
        "criterion = nn.CrossEntropyLoss()\n",
        "optimizer = optim.Adam(model.parameters(), lr=0.001)"
      ],
      "metadata": {
        "id": "YCmePyKG0uKS"
      },
      "execution_count": 28,
      "outputs": []
    },
    {
      "cell_type": "code",
      "source": [
        "# Loop for each epoch\n",
        "for epoch in range(1, num_epochs+1):\n",
        "\n",
        "    # Quá trình training\n",
        "    model.train()\n",
        "    for batch_idx, (data, target) in enumerate(train_loader):\n",
        "        data = data.reshape(-1, 28, 28)\n",
        "        data, target = data.to(device), target.to(device)\n",
        "\n",
        "        # Clear gradients for this training step\n",
        "        optimizer.zero_grad()\n",
        "        output = model(data)\n",
        "\n",
        "        # Backpropagation, compute gradients\n",
        "        loss = criterion(output, target)\n",
        "        loss.backward()\n",
        "\n",
        "        # Apply gradients\n",
        "        optimizer.step()\n",
        "        if batch_idx % 100 == 0:\n",
        "            print('Train Epoch {}: [{}/{} ({:.0f}%)]\\tTrain Loss: {:.6f}'.format(\n",
        "                epoch, batch_idx * len(data), len(train_loader.dataset),\n",
        "                100. * batch_idx / len(train_loader), loss.item()))\n",
        "\n",
        "    # Quá trình testing\n",
        "    model.eval()\n",
        "    test_loss = 0\n",
        "    correct = 0\n",
        "    best_val_loss = 999\n",
        "    # Set no grad cho quá trình testing\n",
        "    with torch.no_grad():\n",
        "        for data, target in test_loader:\n",
        "            data = data.reshape(-1, 28, 28)\n",
        "            data, target = data.to(device), target.to(device)\n",
        "            output = model(data)\n",
        "            output = F.log_softmax(output, dim=1) # Sử dụng hàm log_sotmax để tính xác suất cho output\n",
        "            test_loss += criterion(output, target)\n",
        "            pred = output.argmax(dim = 1, keepdim = True) # Sử dụng hàm argmax để lấy predicted label, chú ý keepdim=True\n",
        "            correct += pred.eq(target.view_as(pred)).sum().item()\n",
        "    test_loss /= len(test_loader.dataset)\n",
        "    if test_loss < best_val_loss:\n",
        "      best_val_loss = test_loss\n",
        "      torch.save(model.state_dict(), checkpoint)  # Lưu model path\n",
        "      print(\"***********    TEST_ACC = {:.2f}%    ***********\".format(correct/100))"
      ],
      "metadata": {
        "id": "ZH_7IeRw1Qu2",
        "colab": {
          "base_uri": "https://localhost:8080/"
        },
        "outputId": "ede0fc24-0896-401f-f8d7-b08feaefba38"
      },
      "execution_count": 29,
      "outputs": [
        {
          "output_type": "stream",
          "name": "stdout",
          "text": [
            "Train Epoch 1: [0/60000 (0%)]\tTrain Loss: 2.324903\n",
            "Train Epoch 1: [12800/60000 (21%)]\tTrain Loss: 1.022953\n",
            "Train Epoch 1: [25600/60000 (43%)]\tTrain Loss: 0.595412\n",
            "Train Epoch 1: [38400/60000 (64%)]\tTrain Loss: 0.629405\n",
            "Train Epoch 1: [51200/60000 (85%)]\tTrain Loss: 0.595757\n",
            "***********    TEST_ACC = 78.55%    ***********\n"
          ]
        }
      ]
    },
    {
      "cell_type": "code",
      "source": [
        "# Load lại model đã train\n",
        "model.load_state_dict(torch.load(checkpoint))\n",
        "\n",
        "# Xem lại thông số của model\n",
        "model.eval()"
      ],
      "metadata": {
        "id": "GJ_fOvWk6cpm",
        "colab": {
          "base_uri": "https://localhost:8080/"
        },
        "outputId": "1c332628-6ccb-4cfb-e095-77dc9220c1f8"
      },
      "execution_count": 30,
      "outputs": [
        {
          "output_type": "stream",
          "name": "stderr",
          "text": [
            "<ipython-input-30-afe4814e6ccb>:2: FutureWarning: You are using `torch.load` with `weights_only=False` (the current default value), which uses the default pickle module implicitly. It is possible to construct malicious pickle data which will execute arbitrary code during unpickling (See https://github.com/pytorch/pytorch/blob/main/SECURITY.md#untrusted-models for more details). In a future release, the default value for `weights_only` will be flipped to `True`. This limits the functions that could be executed during unpickling. Arbitrary objects will no longer be allowed to be loaded via this mode unless they are explicitly allowlisted by the user via `torch.serialization.add_safe_globals`. We recommend you start setting `weights_only=True` for any use case where you don't have full control of the loaded file. Please open an issue on GitHub for any issues related to this experimental feature.\n",
            "  model.load_state_dict(torch.load(checkpoint))\n"
          ]
        },
        {
          "output_type": "execute_result",
          "data": {
            "text/plain": [
              "BiRNNModel(\n",
              "  (rnn): RNN(28, 256, batch_first=True, bidirectional=True)\n",
              "  (fc): Linear(in_features=512, out_features=10, bias=True)\n",
              ")"
            ]
          },
          "metadata": {},
          "execution_count": 30
        }
      ]
    },
    {
      "cell_type": "markdown",
      "source": [
        "## **Prediction**"
      ],
      "metadata": {
        "id": "uVOTLx8zWfxl"
      }
    },
    {
      "cell_type": "code",
      "metadata": {
        "id": "CC260iYZ1xwt",
        "colab": {
          "base_uri": "https://localhost:8080/"
        },
        "outputId": "6b275a59-c2a9-4672-fea1-966c60b1c96b"
      },
      "source": [
        "import random\n",
        "\n",
        "# Lấy ra một batch trong tập test\n",
        "item = iter(test_loader)\n",
        "data, target = next(item)\n",
        "data = data.reshape(-1, 28, 28)\n",
        "\n",
        "# Lấy random index của một phần tử trong batch đó\n",
        "test_idx = random.choice(range(len(data)))\n",
        "print(test_idx)\n",
        "\n",
        "# Lấy một ví dụ trong tập test\n",
        "data = data[test_idx]\n",
        "target = target[test_idx]\n",
        "assert data.shape == (28, 28)"
      ],
      "execution_count": 32,
      "outputs": [
        {
          "output_type": "stream",
          "name": "stdout",
          "text": [
            "88\n"
          ]
        }
      ]
    },
    {
      "cell_type": "code",
      "source": [
        "# Predict sử dụng model đã train\n",
        "def plot(data, model):\n",
        "    data = torch.unsqueeze(data, dim=0) # unsqueeze data\n",
        "    data = data.to(device)\n",
        "    output = model(data)\n",
        "    output = F.log_softmax(output, dim=1) # log softmax, chú ý dim\n",
        "    pred = output.argmax(dim=1, keepdim=True) # argmax, chú ý keepdim\n",
        "    print(\"Predict Number : \", pred[0][0].detach().cpu().numpy())\n",
        "    data = torch.unsqueeze(data, dim=0) # unsqueeze data\n",
        "    plt.imshow(data[0][0].detach().cpu().numpy(), cmap='gray')\n",
        "    plt.show()"
      ],
      "metadata": {
        "id": "JO3AXh4U7nBG"
      },
      "execution_count": 33,
      "outputs": []
    },
    {
      "cell_type": "code",
      "metadata": {
        "id": "EAvIv7Mj2L3K",
        "colab": {
          "base_uri": "https://localhost:8080/",
          "height": 447
        },
        "outputId": "b0e2969a-98d1-4fec-fb55-2b9a8f1d6bf2"
      },
      "source": [
        "plot(data, model)"
      ],
      "execution_count": 34,
      "outputs": [
        {
          "output_type": "stream",
          "name": "stdout",
          "text": [
            "Predict Number :  6\n"
          ]
        },
        {
          "output_type": "display_data",
          "data": {
            "text/plain": [
              "<Figure size 640x480 with 1 Axes>"
            ],
            "image/png": "[encoded data removed]"
          },
          "metadata": {}
        }
      ]
    }
  ]
}